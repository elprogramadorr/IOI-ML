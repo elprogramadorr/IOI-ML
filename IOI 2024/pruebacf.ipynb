{
 "cells": [
  {
   "cell_type": "code",
   "execution_count": null,
   "metadata": {},
   "outputs": [
    {
     "name": "stderr",
     "output_type": "stream",
     "text": [
      "C:\\Users\\VALDIVIA\\AppData\\Local\\Temp\\ipykernel_22232\\3777659263.py:16: FutureWarning: A value is trying to be set on a copy of a DataFrame or Series through chained assignment using an inplace method.\n",
      "The behavior will change in pandas 3.0. This inplace method will never work because the intermediate object on which we are setting values always behaves as a copy.\n",
      "\n",
      "For example, when doing 'df[col].method(value, inplace=True)', try using 'df.method({col: value}, inplace=True)' or df[col] = df[col].method(value) instead, to perform the operation inplace on the original object.\n",
      "\n",
      "\n",
      "  data['Rating de Codeforces'].fillna(method='ffill', inplace=True)\n",
      "C:\\Users\\VALDIVIA\\AppData\\Local\\Temp\\ipykernel_22232\\3777659263.py:16: FutureWarning: Series.fillna with 'method' is deprecated and will raise in a future version. Use obj.ffill() or obj.bfill() instead.\n",
      "  data['Rating de Codeforces'].fillna(method='ffill', inplace=True)\n"
     ]
    },
    {
     "name": "stdout",
     "output_type": "stream",
     "text": [
      "Métricas del modelo:\n",
      "Mean Squared Error (MSE): 329.33\n",
      "R² Score: 0.64\n"
     ]
    },
    {
     "name": "stderr",
     "output_type": "stream",
     "text": [
      "d:\\mateoo\\TESIS\\.venv\\lib\\site-packages\\sklearn\\base.py:493: UserWarning: X does not have valid feature names, but LinearRegression was fitted with feature names\n",
      "  warnings.warn(\n"
     ]
    },
    {
     "name": "stdout",
     "output_type": "stream",
     "text": [
      "El Ranking IOI 2024 estimado para el rating 1475.0 es: 29.80\n"
     ]
    },
    {
     "name": "stderr",
     "output_type": "stream",
     "text": [
      "d:\\mateoo\\TESIS\\.venv\\lib\\site-packages\\sklearn\\base.py:493: UserWarning: X does not have valid feature names, but LinearRegression was fitted with feature names\n",
      "  warnings.warn(\n"
     ]
    },
    {
     "name": "stdout",
     "output_type": "stream",
     "text": [
      "El Ranking IOI 2024 estimado para el rating 1437.0 es: 27.99\n"
     ]
    },
    {
     "name": "stderr",
     "output_type": "stream",
     "text": [
      "d:\\mateoo\\TESIS\\.venv\\lib\\site-packages\\sklearn\\base.py:493: UserWarning: X does not have valid feature names, but LinearRegression was fitted with feature names\n",
      "  warnings.warn(\n"
     ]
    },
    {
     "name": "stdout",
     "output_type": "stream",
     "text": [
      "El Ranking IOI 2024 estimado para el rating 1300.0 es: 21.45\n"
     ]
    },
    {
     "name": "stderr",
     "output_type": "stream",
     "text": [
      "d:\\mateoo\\TESIS\\.venv\\lib\\site-packages\\sklearn\\base.py:493: UserWarning: X does not have valid feature names, but LinearRegression was fitted with feature names\n",
      "  warnings.warn(\n"
     ]
    },
    {
     "name": "stdout",
     "output_type": "stream",
     "text": [
      "El Ranking IOI 2024 estimado para el rating 1000.0 es: 7.13\n"
     ]
    },
    {
     "name": "stderr",
     "output_type": "stream",
     "text": [
      "d:\\mateoo\\TESIS\\.venv\\lib\\site-packages\\sklearn\\base.py:493: UserWarning: X does not have valid feature names, but LinearRegression was fitted with feature names\n",
      "  warnings.warn(\n"
     ]
    },
    {
     "name": "stdout",
     "output_type": "stream",
     "text": [
      "El Ranking IOI 2024 estimado para el rating 1279.0 es: 20.45\n"
     ]
    }
   ],
   "source": [
    "import pandas as pd\n",
    "from sklearn.linear_model import LinearRegression\n",
    "from sklearn.model_selection import train_test_split\n",
    "from sklearn.metrics import mean_squared_error, r2_score\n",
    "\n",
    "# Cargar los datos\n",
    "data = pd.read_csv('ioi_codeforces.csv')\n",
    "\n",
    "# Eliminar la primera columna\n",
    "data = data.drop(data.columns[0], axis=1)\n",
    "\n",
    "# Eliminar columnas no necesarias\n",
    "data = data.drop(data.columns[1:6], axis=1)\n",
    "\n",
    "# Forward fill para llenar valores NaN\n",
    "data['Rating de Codeforces'].fillna(method='ffill', inplace=True)\n",
    "\n",
    "# Separar variables independientes y dependientes\n",
    "X = data[['Rating de Codeforces']]\n",
    "y = data['Ranking IOI 2024']\n",
    "\n",
    "# Dividir los datos en conjunto de entrenamiento (80%) y prueba (20%)\n",
    "X_train, X_test, y_train, y_test = train_test_split(X, y, test_size=0.2, random_state=42)\n",
    "\n",
    "# Entrenar el modelo de regresión lineal\n",
    "model = LinearRegression()\n",
    "model.fit(X_train, y_train)\n",
    "\n",
    "# Evaluar el modelo en el conjunto de prueba\n",
    "y_pred = model.predict(X_test)\n",
    "\n",
    "# Métricas de rendimiento\n",
    "mse = mean_squared_error(y_test, y_pred)\n",
    "r2 = r2_score(y_test, y_pred)\n",
    "\n",
    "# Resultados\n",
    "print(\"Métricas del modelo:\")\n",
    "print(f\"Mean Squared Error (MSE): {mse:.2f}\")\n",
    "print(f\"R² Score: {r2:.2f}\")\n",
    "\n",
    "# Probar el predictor\n",
    "def predict_ranking(rating):\n",
    "    prediction = model.predict([[rating]])\n",
    "    prediction[0] = min(prediction[0], 100)  # Limitar el valor máximo del ranking a 100\n",
    "    return prediction[0]\n",
    "\n",
    "while True:\n",
    "    try:\n",
    "        user_input = input(\"Introduce el Rating de Codeforces (o escribe 'salir' para terminar): \")\n",
    "        if user_input.lower() == 'salir':\n",
    "            print(\"Saliendo del programa...\")\n",
    "            break\n",
    "        rating_value = float(user_input)\n",
    "        predicted_ranking = predict_ranking(rating_value)\n",
    "        print(f\"El Ranking IOI 2024 estimado para el rating {rating_value} es: {predicted_ranking:.2f}\")\n",
    "    except ValueError:\n",
    "        print(\"Por favor, introduce un número válido o escribe 'salir'.\")\n"
   ]
  }
 ],
 "metadata": {
  "kernelspec": {
   "display_name": ".venv",
   "language": "python",
   "name": "python3"
  },
  "language_info": {
   "codemirror_mode": {
    "name": "ipython",
    "version": 3
   },
   "file_extension": ".py",
   "mimetype": "text/x-python",
   "name": "python",
   "nbconvert_exporter": "python",
   "pygments_lexer": "ipython3",
   "version": "3.10.7"
  }
 },
 "nbformat": 4,
 "nbformat_minor": 2
}
