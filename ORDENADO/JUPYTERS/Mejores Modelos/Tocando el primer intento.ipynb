{
 "cells": [
  {
   "cell_type": "markdown",
   "metadata": {},
   "source": [
    "Leer los datos"
   ]
  },
  {
   "cell_type": "code",
   "execution_count": 2,
   "metadata": {},
   "outputs": [],
   "source": [
    "import pandas as pd     \n",
    "df = pd.read_csv('data.csv')"
   ]
  },
  {
   "cell_type": "code",
   "execution_count": 3,
   "metadata": {},
   "outputs": [
    {
     "data": {
      "text/html": [
       "<div>\n",
       "<style scoped>\n",
       "    .dataframe tbody tr th:only-of-type {\n",
       "        vertical-align: middle;\n",
       "    }\n",
       "\n",
       "    .dataframe tbody tr th {\n",
       "        vertical-align: top;\n",
       "    }\n",
       "\n",
       "    .dataframe thead th {\n",
       "        text-align: right;\n",
       "    }\n",
       "</style>\n",
       "<table border=\"1\" class=\"dataframe\">\n",
       "  <thead>\n",
       "    <tr style=\"text-align: right;\">\n",
       "      <th></th>\n",
       "      <th>Nombre</th>\n",
       "      <th>Handle de Codeforces</th>\n",
       "      <th>Rating de Codeforces</th>\n",
       "      <th>Ranking IOI 2019</th>\n",
       "      <th>Ranking IOI 2020</th>\n",
       "      <th>Ranking IOI 2021</th>\n",
       "      <th>Ranking IOI 2022</th>\n",
       "      <th>Ranking IOI 2023</th>\n",
       "      <th>Ranking IOI 2024</th>\n",
       "      <th>Pais</th>\n",
       "    </tr>\n",
       "  </thead>\n",
       "  <tbody>\n",
       "    <tr>\n",
       "      <th>0</th>\n",
       "      <td>Kangyang Zhou</td>\n",
       "      <td>orzdevinwang</td>\n",
       "      <td>3529.0</td>\n",
       "      <td>NaN</td>\n",
       "      <td>NaN</td>\n",
       "      <td>NaN</td>\n",
       "      <td>NaN</td>\n",
       "      <td>NaN</td>\n",
       "      <td>100.00</td>\n",
       "      <td>China</td>\n",
       "    </tr>\n",
       "    <tr>\n",
       "      <th>1</th>\n",
       "      <td>Adam Gąsienica-Samek</td>\n",
       "      <td>adam_gs</td>\n",
       "      <td>2876.0</td>\n",
       "      <td>NaN</td>\n",
       "      <td>NaN</td>\n",
       "      <td>NaN</td>\n",
       "      <td>NaN</td>\n",
       "      <td>85.71</td>\n",
       "      <td>99.72</td>\n",
       "      <td>Poland</td>\n",
       "    </tr>\n",
       "    <tr>\n",
       "      <th>2</th>\n",
       "      <td>Brian Xue</td>\n",
       "      <td>hyforces</td>\n",
       "      <td>2503.0</td>\n",
       "      <td>NaN</td>\n",
       "      <td>NaN</td>\n",
       "      <td>NaN</td>\n",
       "      <td>NaN</td>\n",
       "      <td>NaN</td>\n",
       "      <td>99.43</td>\n",
       "      <td>United States</td>\n",
       "    </tr>\n",
       "    <tr>\n",
       "      <th>3</th>\n",
       "      <td>Daniel Weber</td>\n",
       "      <td>CommandMaster</td>\n",
       "      <td>2276.0</td>\n",
       "      <td>NaN</td>\n",
       "      <td>NaN</td>\n",
       "      <td>NaN</td>\n",
       "      <td>92.55</td>\n",
       "      <td>93.43</td>\n",
       "      <td>99.15</td>\n",
       "      <td>Israel</td>\n",
       "    </tr>\n",
       "    <tr>\n",
       "      <th>4</th>\n",
       "      <td>Agastya Goel</td>\n",
       "      <td>gustergoose27</td>\n",
       "      <td>2448.0</td>\n",
       "      <td>NaN</td>\n",
       "      <td>NaN</td>\n",
       "      <td>NaN</td>\n",
       "      <td>NaN</td>\n",
       "      <td>98.29</td>\n",
       "      <td>99.15</td>\n",
       "      <td>United States</td>\n",
       "    </tr>\n",
       "  </tbody>\n",
       "</table>\n",
       "</div>"
      ],
      "text/plain": [
       "                 Nombre Handle de Codeforces  Rating de Codeforces  \\\n",
       "0         Kangyang Zhou         orzdevinwang                3529.0   \n",
       "1  Adam Gąsienica-Samek              adam_gs                2876.0   \n",
       "2             Brian Xue             hyforces                2503.0   \n",
       "3          Daniel Weber        CommandMaster                2276.0   \n",
       "4          Agastya Goel        gustergoose27                2448.0   \n",
       "\n",
       "   Ranking IOI 2019  Ranking IOI 2020  Ranking IOI 2021  Ranking IOI 2022  \\\n",
       "0               NaN               NaN               NaN               NaN   \n",
       "1               NaN               NaN               NaN               NaN   \n",
       "2               NaN               NaN               NaN               NaN   \n",
       "3               NaN               NaN               NaN             92.55   \n",
       "4               NaN               NaN               NaN               NaN   \n",
       "\n",
       "   Ranking IOI 2023  Ranking IOI 2024           Pais  \n",
       "0               NaN            100.00          China  \n",
       "1             85.71             99.72         Poland  \n",
       "2               NaN             99.43  United States  \n",
       "3             93.43             99.15         Israel  \n",
       "4             98.29             99.15  United States  "
      ]
     },
     "execution_count": 3,
     "metadata": {},
     "output_type": "execute_result"
    }
   ],
   "source": [
    "df.head()"
   ]
  },
  {
   "cell_type": "code",
   "execution_count": 4,
   "metadata": {},
   "outputs": [],
   "source": [
    "# eliminar columna Handle de Codeforces\n",
    "df.drop('Handle de Codeforces', axis=1, inplace=True)"
   ]
  },
  {
   "cell_type": "code",
   "execution_count": 5,
   "metadata": {},
   "outputs": [
    {
     "name": "stdout",
     "output_type": "stream",
     "text": [
      "24.37673130193906\n"
     ]
    }
   ],
   "source": [
    "print(len(df.loc[(df['Rating de Codeforces'].isna()) | (df['Rating de Codeforces'] == '')]) * 100 / len(df))\n",
    "\n",
    "df_no_missing = df.loc[(df['Rating de Codeforces'].notna()) & (df['Rating de Codeforces'] != '')]\n"
   ]
  },
  {
   "cell_type": "code",
   "execution_count": 7,
   "metadata": {},
   "outputs": [
    {
     "name": "stdout",
     "output_type": "stream",
     "text": [
      "X_train:\n",
      "204\n",
      "\n",
      "X_test:\n",
      "69\n"
     ]
    }
   ],
   "source": [
    "from sklearn.model_selection import train_test_split\n",
    "\n",
    "# Suponiendo que df_no_missing ya está cargado y limpio\n",
    "# Selecciona las columnas relevantes\n",
    "df_reduced = df_no_missing[['Rating de Codeforces', 'Pais', 'Ranking IOI 2024']]\n",
    "\n",
    "# Aplica el One-Hot Encoding a la columna 'Pais'\n",
    "df_reduced = pd.get_dummies(df_reduced, columns=['Pais'], drop_first=True)\n",
    "\n",
    "# Define las características (X) y la variable objetivo (y)\n",
    "X = df_reduced.drop('Ranking IOI 2024', axis=1)\n",
    "y = df_reduced['Ranking IOI 2024']\n",
    "\n",
    "# Divide los datos en conjunto de entrenamiento y conjunto de prueba\n",
    "X_train, X_test, y_train, y_test = train_test_split(X, y, random_state=42)\n",
    "\n",
    "# Muestra las primeras filas de X_train y X_test después de aplicar One-Hot Encoding\n",
    "print(\"X_train:\")\n",
    "print(len(X_train))\n",
    "print(\"\\nX_test:\")\n",
    "print(len(X_test))\n"
   ]
  },
  {
   "cell_type": "markdown",
   "metadata": {},
   "source": [
    "Ahora a crear el modelo"
   ]
  },
  {
   "cell_type": "code",
   "execution_count": null,
   "metadata": {},
   "outputs": [],
   "source": [
    "from sklearn.tree import DecisionTreeRegressor\n",
    "from sklearn.metrics import mean_squared_error\n",
    "from matplotlib import pyplot as plt\n",
    "\n",
    "# Initialize the regression tree model\n",
    "regressor = DecisionTreeRegressor(random_state=42)\n",
    "\n",
    "# Fit the model\n",
    "regressor.fit(X_train, y_train)\n",
    "\n",
    "plt.figure(figsize=(15, 7.5))\n",
    "plot_tree(regressor, filled=True, feature_names=X.columns)\n",
    "\n",
    "# Make predictions\n",
    "# y_pred = regressor.predict(X_test)\n",
    "\n",
    "# # Evaluate the model\n",
    "# mse = mean_squared_error(y_test, y_pred)\n",
    "# print(f\"Mean Squared Error: {mse}\")"
   ]
  },
  {
   "cell_type": "code",
   "execution_count": null,
   "metadata": {},
   "outputs": [],
   "source": []
  }
 ],
 "metadata": {
  "kernelspec": {
   "display_name": ".venv",
   "language": "python",
   "name": "python3"
  },
  "language_info": {
   "codemirror_mode": {
    "name": "ipython",
    "version": 3
   },
   "file_extension": ".py",
   "mimetype": "text/x-python",
   "name": "python",
   "nbconvert_exporter": "python",
   "pygments_lexer": "ipython3",
   "version": "3.10.7"
  }
 },
 "nbformat": 4,
 "nbformat_minor": 2
}
