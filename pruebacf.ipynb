{
 "cells": [
  {
   "cell_type": "code",
   "execution_count": 2,
   "metadata": {},
   "outputs": [
    {
     "data": {
      "text/html": [
       "<div>\n",
       "<style scoped>\n",
       "    .dataframe tbody tr th:only-of-type {\n",
       "        vertical-align: middle;\n",
       "    }\n",
       "\n",
       "    .dataframe tbody tr th {\n",
       "        vertical-align: top;\n",
       "    }\n",
       "\n",
       "    .dataframe thead th {\n",
       "        text-align: right;\n",
       "    }\n",
       "</style>\n",
       "<table border=\"1\" class=\"dataframe\">\n",
       "  <thead>\n",
       "    <tr style=\"text-align: right;\">\n",
       "      <th></th>\n",
       "      <th>Name</th>\n",
       "      <th>Profile URL</th>\n",
       "      <th>Codeforces Handle</th>\n",
       "    </tr>\n",
       "  </thead>\n",
       "  <tbody>\n",
       "    <tr>\n",
       "      <th>0</th>\n",
       "      <td>Kangyang Zhou</td>\n",
       "      <td>https://stats.ioinformatics.org/people/8272</td>\n",
       "      <td>orzdevinwang</td>\n",
       "    </tr>\n",
       "    <tr>\n",
       "      <th>1</th>\n",
       "      <td>Adam Gąsienica-Samek</td>\n",
       "      <td>https://stats.ioinformatics.org/people/8137</td>\n",
       "      <td>Adam_GS</td>\n",
       "    </tr>\n",
       "    <tr>\n",
       "      <th>2</th>\n",
       "      <td>Brian Xue</td>\n",
       "      <td>https://stats.ioinformatics.org/people/8462</td>\n",
       "      <td>popo</td>\n",
       "    </tr>\n",
       "    <tr>\n",
       "      <th>3</th>\n",
       "      <td>Daniel Weber</td>\n",
       "      <td>https://stats.ioinformatics.org/people/7802</td>\n",
       "      <td>NaN</td>\n",
       "    </tr>\n",
       "    <tr>\n",
       "      <th>4</th>\n",
       "      <td>Agastya Goel</td>\n",
       "      <td>https://stats.ioinformatics.org/people/8216</td>\n",
       "      <td>rainboy</td>\n",
       "    </tr>\n",
       "  </tbody>\n",
       "</table>\n",
       "</div>"
      ],
      "text/plain": [
       "                   Name                                  Profile URL  \\\n",
       "0         Kangyang Zhou  https://stats.ioinformatics.org/people/8272   \n",
       "1  Adam Gąsienica-Samek  https://stats.ioinformatics.org/people/8137   \n",
       "2             Brian Xue  https://stats.ioinformatics.org/people/8462   \n",
       "3          Daniel Weber  https://stats.ioinformatics.org/people/7802   \n",
       "4          Agastya Goel  https://stats.ioinformatics.org/people/8216   \n",
       "\n",
       "  Codeforces Handle  \n",
       "0      orzdevinwang  \n",
       "1           Adam_GS  \n",
       "2              popo  \n",
       "3               NaN  \n",
       "4           rainboy  "
      ]
     },
     "execution_count": 2,
     "metadata": {},
     "output_type": "execute_result"
    }
   ],
   "source": [
    "import pandas as pd\n",
    "\n",
    "data = pd.read_csv('competitors.csv')\n",
    "\n",
    "data.head()"
   ]
  }
 ],
 "metadata": {
  "kernelspec": {
   "display_name": "Python 3",
   "language": "python",
   "name": "python3"
  },
  "language_info": {
   "codemirror_mode": {
    "name": "ipython",
    "version": 3
   },
   "file_extension": ".py",
   "mimetype": "text/x-python",
   "name": "python",
   "nbconvert_exporter": "python",
   "pygments_lexer": "ipython3",
   "version": "3.11.0"
  }
 },
 "nbformat": 4,
 "nbformat_minor": 2
}
